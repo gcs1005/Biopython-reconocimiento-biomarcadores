{
  "nbformat": 4,
  "nbformat_minor": 0,
  "metadata": {
    "colab": {
      "provenance": [],
      "authorship_tag": "ABX9TyOLSFyoWutUnoejUjAxFvAs",
      "include_colab_link": true
    },
    "kernelspec": {
      "name": "ir",
      "display_name": "R"
    },
    "language_info": {
      "name": "R"
    }
  },
  "cells": [
    {
      "cell_type": "markdown",
      "metadata": {
        "id": "view-in-github",
        "colab_type": "text"
      },
      "source": [
        "<a href=\"https://colab.research.google.com/github/gcs1005/TFG--Bioinform-tica/blob/main/Script_TFG_R.ipynb\" target=\"_parent\"><img src=\"https://colab.research.google.com/assets/colab-badge.svg\" alt=\"Open In Colab\"/></a>"
      ]
    },
    {
      "cell_type": "markdown",
      "source": [
        "# Script TFG en R\n"
      ],
      "metadata": {
        "id": "AdUARf9wiu7P"
      }
    },
    {
      "cell_type": "markdown",
      "source": [
        "En la primera celda de código escribimos lo siguiente para instalar IRkernel:"
      ],
      "metadata": {
        "id": "0keJtwI2i6DA"
      }
    },
    {
      "cell_type": "code",
      "source": [
        "install.packages('IRkernel')\n"
      ],
      "metadata": {
        "colab": {
          "base_uri": "https://localhost:8080/"
        },
        "id": "eyXf_w1tix1O",
        "outputId": "eb778f32-8d5b-4075-8fc1-deac2cb9a2d3"
      },
      "execution_count": null,
      "outputs": [
        {
          "output_type": "stream",
          "name": "stderr",
          "text": [
            "Installing package into ‘/usr/local/lib/R/site-library’\n",
            "(as ‘lib’ is unspecified)\n",
            "\n"
          ]
        }
      ]
    },
    {
      "cell_type": "markdown",
      "source": [
        "Ejecutamos la siguiente línea de código para habilitar el kernel de R en Colab"
      ],
      "metadata": {
        "id": "_egrCmgZjcFY"
      }
    },
    {
      "cell_type": "code",
      "source": [
        "IRkernel::installspec()"
      ],
      "metadata": {
        "id": "brVrwaZai4tn"
      },
      "execution_count": null,
      "outputs": []
    },
    {
      "cell_type": "markdown",
      "source": [
        "Comenzamos ahora con el script para la descarga de datos sanos para los genes de interés a partir de TCGA y usando TCGAbiolinks\n",
        "\n",
        "Previamente debemos realizar la carga de los siguientes paquetes en R.\n",
        "\n"
      ],
      "metadata": {
        "id": "q0qUgAwIrH5Z"
      }
    },
    {
      "cell_type": "code",
      "source": [
        "library(tidyverse)\n",
        "\n",
        "install.packages('pheatmap')\n",
        "library(pheatmap)\n",
        "\n",
        "if (!requireNamespace(\"BiocManager\", quietly = TRUE))\n",
        "    install.packages(\"BiocManager\")\n",
        "\n",
        "BiocManager::install()\n",
        "BiocManager::install(\"SummarizedExperiment\")\n",
        "BiocManager::install(\"SummarizedExperiment\", force = TRUE)\n",
        "library(SummarizedExperiment)\n",
        "\n",
        "BiocManager::install(\"TCGAbiolinks\")\n",
        "install.packages('TCGAbiolinks')\n",
        "library(TCGAbiolinks)\n",
        "\n",
        "\n",
        "BiocManager::install(\"maftools\")\n",
        "install.packages('maftools')\n",
        "library(maftools)"
      ],
      "metadata": {
        "colab": {
          "base_uri": "https://localhost:8080/"
        },
        "id": "HaNvtDKxjkj4",
        "outputId": "b4d9a0ad-9e0e-4476-a056-28faa24721d1"
      },
      "execution_count": null,
      "outputs": [
        {
          "output_type": "stream",
          "name": "stderr",
          "text": [
            "── \u001b[1mAttaching core tidyverse packages\u001b[22m ──────────────────────── tidyverse 2.0.0 ──\n",
            "\u001b[32m✔\u001b[39m \u001b[34mdplyr    \u001b[39m 1.1.4     \u001b[32m✔\u001b[39m \u001b[34mreadr    \u001b[39m 2.1.5\n",
            "\u001b[32m✔\u001b[39m \u001b[34mforcats  \u001b[39m 1.0.0     \u001b[32m✔\u001b[39m \u001b[34mstringr  \u001b[39m 1.5.1\n",
            "\u001b[32m✔\u001b[39m \u001b[34mggplot2  \u001b[39m 3.4.4     \u001b[32m✔\u001b[39m \u001b[34mtibble   \u001b[39m 3.2.1\n",
            "\u001b[32m✔\u001b[39m \u001b[34mlubridate\u001b[39m 1.9.3     \u001b[32m✔\u001b[39m \u001b[34mtidyr    \u001b[39m 1.3.1\n",
            "\u001b[32m✔\u001b[39m \u001b[34mpurrr    \u001b[39m 1.0.2     \n",
            "── \u001b[1mConflicts\u001b[22m ────────────────────────────────────────── tidyverse_conflicts() ──\n",
            "\u001b[31m✖\u001b[39m \u001b[34mpurrr\u001b[39m::\u001b[32m%||%()\u001b[39m   masks \u001b[34mbase\u001b[39m::%||%()\n",
            "\u001b[31m✖\u001b[39m \u001b[34mdplyr\u001b[39m::\u001b[32mfilter()\u001b[39m masks \u001b[34mstats\u001b[39m::filter()\n",
            "\u001b[31m✖\u001b[39m \u001b[34mdplyr\u001b[39m::\u001b[32mlag()\u001b[39m    masks \u001b[34mstats\u001b[39m::lag()\n",
            "\u001b[36mℹ\u001b[39m Use the conflicted package (\u001b[3m\u001b[34m<http://conflicted.r-lib.org/>\u001b[39m\u001b[23m) to force all conflicts to become errors\n",
            "Installing package into ‘/usr/local/lib/R/site-library’\n",
            "(as ‘lib’ is unspecified)\n",
            "\n",
            "Installing package into ‘/usr/local/lib/R/site-library’\n",
            "(as ‘lib’ is unspecified)\n",
            "\n",
            "'getOption(\"repos\")' replaces Bioconductor standard repositories, see\n",
            "'help(\"repositories\", package = \"BiocManager\")' for details.\n",
            "Replacement repositories:\n",
            "    CRAN: https://cran.rstudio.com\n",
            "\n",
            "Bioconductor version 3.19 (BiocManager 1.30.23), R 4.4.0 (2024-04-24)\n",
            "\n",
            "Installing package(s) 'BiocVersion'\n",
            "\n",
            "Old packages: 'bit', 'brio', 'bslib', 'callr', 'curl', 'data.table', 'DBI',\n",
            "  'dbplyr', 'devtools', 'digest', 'fs', 'gargle', 'ggplot2', 'gh', 'gtable',\n",
            "  'highr', 'htmltools', 'httr2', 'isoband', 'knitr', 'munsell', 'openssl',\n",
            "  'pkgbuild', 'processx', 'ragg', 'remotes', 'rmarkdown', 'rstudioapi',\n",
            "  'rvest', 'sass', 'stringi', 'systemfonts', 'testthat', 'textshaping',\n",
            "  'tidyselect', 'tinytex', 'usethis', 'whisker', 'xfun', 'xopen', 'zip',\n",
            "  'codetools', 'lattice', 'MASS', 'Matrix', 'nlme', 'survival'\n",
            "\n",
            "'getOption(\"repos\")' replaces Bioconductor standard repositories, see\n",
            "'help(\"repositories\", package = \"BiocManager\")' for details.\n",
            "Replacement repositories:\n",
            "    CRAN: https://cran.rstudio.com\n",
            "\n",
            "Bioconductor version 3.19 (BiocManager 1.30.23), R 4.4.0 (2024-04-24)\n",
            "\n",
            "Installing package(s) 'SummarizedExperiment'\n",
            "\n",
            "also installing the dependencies ‘zlibbioc’, ‘matrixStats’, ‘XVector’, ‘UCSC.utils’, ‘GenomeInfoDbData’, ‘abind’, ‘SparseArray’, ‘MatrixGenerics’, ‘GenomicRanges’, ‘Biobase’, ‘BiocGenerics’, ‘S4Vectors’, ‘IRanges’, ‘GenomeInfoDb’, ‘S4Arrays’, ‘DelayedArray’\n",
            "\n",
            "\n",
            "Old packages: 'bit', 'brio', 'bslib', 'callr', 'curl', 'data.table', 'DBI',\n",
            "  'dbplyr', 'devtools', 'digest', 'fs', 'gargle', 'ggplot2', 'gh', 'gtable',\n",
            "  'highr', 'htmltools', 'httr2', 'isoband', 'knitr', 'munsell', 'openssl',\n",
            "  'pkgbuild', 'processx', 'ragg', 'remotes', 'rmarkdown', 'rstudioapi',\n",
            "  'rvest', 'sass', 'stringi', 'systemfonts', 'testthat', 'textshaping',\n",
            "  'tidyselect', 'tinytex', 'usethis', 'whisker', 'xfun', 'xopen', 'zip',\n",
            "  'codetools', 'lattice', 'MASS', 'Matrix', 'nlme', 'survival'\n",
            "\n",
            "'getOption(\"repos\")' replaces Bioconductor standard repositories, see\n",
            "'help(\"repositories\", package = \"BiocManager\")' for details.\n",
            "Replacement repositories:\n",
            "    CRAN: https://cran.rstudio.com\n",
            "\n",
            "Bioconductor version 3.19 (BiocManager 1.30.23), R 4.4.0 (2024-04-24)\n",
            "\n",
            "Installing package(s) 'SummarizedExperiment'\n",
            "\n",
            "Old packages: 'bit', 'brio', 'bslib', 'callr', 'curl', 'data.table', 'DBI',\n",
            "  'dbplyr', 'devtools', 'digest', 'fs', 'gargle', 'ggplot2', 'gh', 'gtable',\n",
            "  'highr', 'htmltools', 'httr2', 'isoband', 'knitr', 'munsell', 'openssl',\n",
            "  'pkgbuild', 'processx', 'ragg', 'remotes', 'rmarkdown', 'rstudioapi',\n",
            "  'rvest', 'sass', 'stringi', 'systemfonts', 'testthat', 'textshaping',\n",
            "  'tidyselect', 'tinytex', 'usethis', 'whisker', 'xfun', 'xopen', 'zip',\n",
            "  'codetools', 'lattice', 'MASS', 'Matrix', 'nlme', 'survival'\n",
            "\n",
            "Loading required package: MatrixGenerics\n",
            "\n",
            "Loading required package: matrixStats\n",
            "\n",
            "\n",
            "Attaching package: ‘matrixStats’\n",
            "\n",
            "\n",
            "The following object is masked from ‘package:dplyr’:\n",
            "\n",
            "    count\n",
            "\n",
            "\n",
            "\n",
            "Attaching package: ‘MatrixGenerics’\n",
            "\n",
            "\n",
            "The following objects are masked from ‘package:matrixStats’:\n",
            "\n",
            "    colAlls, colAnyNAs, colAnys, colAvgsPerRowSet, colCollapse,\n",
            "    colCounts, colCummaxs, colCummins, colCumprods, colCumsums,\n",
            "    colDiffs, colIQRDiffs, colIQRs, colLogSumExps, colMadDiffs,\n",
            "    colMads, colMaxs, colMeans2, colMedians, colMins, colOrderStats,\n",
            "    colProds, colQuantiles, colRanges, colRanks, colSdDiffs, colSds,\n",
            "    colSums2, colTabulates, colVarDiffs, colVars, colWeightedMads,\n",
            "    colWeightedMeans, colWeightedMedians, colWeightedSds,\n",
            "    colWeightedVars, rowAlls, rowAnyNAs, rowAnys, rowAvgsPerColSet,\n",
            "    rowCollapse, rowCounts, rowCummaxs, rowCummins, rowCumprods,\n",
            "    rowCumsums, rowDiffs, rowIQRDiffs, rowIQRs, rowLogSumExps,\n",
            "    rowMadDiffs, rowMads, rowMaxs, rowMeans2, rowMedians, rowMins,\n",
            "    rowOrderStats, rowProds, rowQuantiles, rowRanges, rowRanks,\n",
            "    rowSdDiffs, rowSds, rowSums2, rowTabulates, rowVarDiffs, rowVars,\n",
            "    rowWeightedMads, rowWeightedMeans, rowWeightedMedians,\n",
            "    rowWeightedSds, rowWeightedVars\n",
            "\n",
            "\n",
            "Loading required package: GenomicRanges\n",
            "\n",
            "Loading required package: stats4\n",
            "\n",
            "Loading required package: BiocGenerics\n",
            "\n",
            "\n",
            "Attaching package: ‘BiocGenerics’\n",
            "\n",
            "\n",
            "The following objects are masked from ‘package:lubridate’:\n",
            "\n",
            "    intersect, setdiff, union\n",
            "\n",
            "\n",
            "The following objects are masked from ‘package:dplyr’:\n",
            "\n",
            "    combine, intersect, setdiff, union\n",
            "\n",
            "\n",
            "The following objects are masked from ‘package:stats’:\n",
            "\n",
            "    IQR, mad, sd, var, xtabs\n",
            "\n",
            "\n",
            "The following objects are masked from ‘package:base’:\n",
            "\n",
            "    anyDuplicated, aperm, append, as.data.frame, basename, cbind,\n",
            "    colnames, dirname, do.call, duplicated, eval, evalq, Filter, Find,\n",
            "    get, grep, grepl, intersect, is.unsorted, lapply, Map, mapply,\n",
            "    match, mget, order, paste, pmax, pmax.int, pmin, pmin.int,\n",
            "    Position, rank, rbind, Reduce, rownames, sapply, setdiff, table,\n",
            "    tapply, union, unique, unsplit, which.max, which.min\n",
            "\n",
            "\n",
            "Loading required package: S4Vectors\n",
            "\n",
            "\n",
            "Attaching package: ‘S4Vectors’\n",
            "\n",
            "\n",
            "The following objects are masked from ‘package:lubridate’:\n",
            "\n",
            "    second, second<-\n",
            "\n",
            "\n",
            "The following objects are masked from ‘package:dplyr’:\n",
            "\n",
            "    first, rename\n",
            "\n",
            "\n",
            "The following object is masked from ‘package:tidyr’:\n",
            "\n",
            "    expand\n",
            "\n",
            "\n",
            "The following object is masked from ‘package:utils’:\n",
            "\n",
            "    findMatches\n",
            "\n",
            "\n",
            "The following objects are masked from ‘package:base’:\n",
            "\n",
            "    expand.grid, I, unname\n",
            "\n",
            "\n",
            "Loading required package: IRanges\n",
            "\n",
            "\n",
            "Attaching package: ‘IRanges’\n",
            "\n",
            "\n",
            "The following object is masked from ‘package:lubridate’:\n",
            "\n",
            "    %within%\n",
            "\n",
            "\n",
            "The following objects are masked from ‘package:dplyr’:\n",
            "\n",
            "    collapse, desc, slice\n",
            "\n",
            "\n",
            "The following object is masked from ‘package:purrr’:\n",
            "\n",
            "    reduce\n",
            "\n",
            "\n",
            "Loading required package: GenomeInfoDb\n",
            "\n",
            "Loading required package: Biobase\n",
            "\n",
            "Welcome to Bioconductor\n",
            "\n",
            "    Vignettes contain introductory material; view with\n",
            "    'browseVignettes()'. To cite Bioconductor, see\n",
            "    'citation(\"Biobase\")', and for packages 'citation(\"pkgname\")'.\n",
            "\n",
            "\n",
            "\n",
            "Attaching package: ‘Biobase’\n",
            "\n",
            "\n",
            "The following object is masked from ‘package:MatrixGenerics’:\n",
            "\n",
            "    rowMedians\n",
            "\n",
            "\n",
            "The following objects are masked from ‘package:matrixStats’:\n",
            "\n",
            "    anyMissing, rowMedians\n",
            "\n",
            "\n",
            "'getOption(\"repos\")' replaces Bioconductor standard repositories, see\n",
            "'help(\"repositories\", package = \"BiocManager\")' for details.\n",
            "Replacement repositories:\n",
            "    CRAN: https://cran.rstudio.com\n",
            "\n",
            "Bioconductor version 3.19 (BiocManager 1.30.23), R 4.4.0 (2024-04-24)\n",
            "\n",
            "Installing package(s) 'TCGAbiolinks'\n",
            "\n",
            "also installing the dependencies ‘plogr’, ‘png’, ‘Biostrings’, ‘RSQLite’, ‘KEGGREST’, ‘filelock’, ‘AnnotationDbi’, ‘BiocFileCache’, ‘Rcpp’, ‘R.oo’, ‘R.methodsS3’, ‘downloader’, ‘biomaRt’, ‘XML’, ‘plyr’, ‘R.utils’, ‘TCGAbiolinksGUI.data’\n",
            "\n",
            "\n"
          ]
        }
      ]
    },
    {
      "cell_type": "markdown",
      "source": [
        "# Para los casos sanos"
      ],
      "metadata": {
        "id": "wCOKfB0OsK-q"
      }
    },
    {
      "cell_type": "markdown",
      "source": [
        "## Primera solicitud(perfil del transcriptoma)"
      ],
      "metadata": {
        "id": "u3Uf4TnhrqoP"
      }
    },
    {
      "cell_type": "code",
      "source": [
        "#Y comenzaremos dando uso a una de las 3 funciones que vamos a utilizar:\n",
        "#Una función que nos permitirá ver los proyectos presentes en GDC.\n",
        "\n",
        "proyectos_gcd<-getGDCprojects()\n",
        "\n",
        "#con el siguiente comando obtenemos un resumen por consola del proyecto de\n",
        "#interés(aquel que incluye información del gen BRCA):\n",
        "getProjectSummary('TCGA-BRCA')\n",
        "\n",
        "#A continuación realizamos el filtrado del proyecto de TCGA-BRCA con la consulta\n",
        "#siguiente.\n",
        "query_TCGA<-GDCquery(project = 'TCGA-BRCA',\n",
        "         data.category = 'Transcriptome Profiling')\n",
        "\n",
        "#Y observamos los resultados obtenidos de la petición\n",
        "output_query_TCGA<-getResults(query_TCGA)\n",
        "\n",
        "#/*\n",
        "#Primera solicitud (perfil del transcriptoma):\n",
        "#Con los datos ya observados, hacemos un filtrado de aquellos que nos interesan:\n",
        "query_TCGA_normal<-GDCquery(project = 'TCGA-BRCA',\n",
        "                     data.category = 'Transcriptome Profiling',\n",
        "                     experimental.strategy = 'RNA-Seq',\n",
        "                     sample.type = 'Solid Tissue Normal',\n",
        "                     access = 'open')\n",
        "\n",
        "#Ahora solicitamos la visualización de los resultados obtenidos con la\n",
        "#solicitud:\n",
        "\n",
        "output_TCGA_normal<-getResults(query_TCGA_normal)\n",
        "\n",
        "#Con ello, ya descargaríamos los datos:\n",
        "\n",
        "GDCdownload(query_TCGA_normal)\n"
      ],
      "metadata": {
        "colab": {
          "base_uri": "https://localhost:8080/",
          "height": 1000
        },
        "id": "4PVK2IzQoH0q",
        "outputId": "b4a1a8e5-69e4-4535-ff82-f286fad84ff9"
      },
      "execution_count": null,
      "outputs": [
        {
          "output_type": "display_data",
          "data": {
            "text/html": [
              "<dl>\n",
              "\t<dt>$file_count</dt>\n",
              "\t\t<dd>61173</dd>\n",
              "\t<dt>$data_categories</dt>\n",
              "\t\t<dd><table class=\"dataframe\">\n",
              "<caption>A data.frame: 10 × 3</caption>\n",
              "<thead>\n",
              "\t<tr><th></th><th scope=col>file_count</th><th scope=col>case_count</th><th scope=col>data_category</th></tr>\n",
              "\t<tr><th></th><th scope=col>&lt;int&gt;</th><th scope=col>&lt;int&gt;</th><th scope=col>&lt;chr&gt;</th></tr>\n",
              "</thead>\n",
              "<tbody>\n",
              "\t<tr><th scope=row>1</th><td>17337</td><td>1098</td><td>Simple Nucleotide Variation </td></tr>\n",
              "\t<tr><th scope=row>2</th><td> 9281</td><td>1098</td><td>Sequencing Reads            </td></tr>\n",
              "\t<tr><th scope=row>3</th><td> 5316</td><td>1098</td><td>Biospecimen                 </td></tr>\n",
              "\t<tr><th scope=row>4</th><td> 2288</td><td>1098</td><td>Clinical                    </td></tr>\n",
              "\t<tr><th scope=row>5</th><td>12292</td><td>1098</td><td>Copy Number Variation       </td></tr>\n",
              "\t<tr><th scope=row>6</th><td> 4876</td><td>1097</td><td>Transcriptome Profiling     </td></tr>\n",
              "\t<tr><th scope=row>7</th><td> 3714</td><td>1097</td><td>DNA Methylation             </td></tr>\n",
              "\t<tr><th scope=row>8</th><td>  919</td><td> 881</td><td>Proteome Profiling          </td></tr>\n",
              "\t<tr><th scope=row>9</th><td>  226</td><td> 101</td><td>Somatic Structural Variation</td></tr>\n",
              "\t<tr><th scope=row>10</th><td> 4924</td><td>1095</td><td>Structural Variation        </td></tr>\n",
              "</tbody>\n",
              "</table>\n",
              "</dd>\n",
              "\t<dt>$case_count</dt>\n",
              "\t\t<dd>1098</dd>\n",
              "\t<dt>$file_size</dt>\n",
              "\t\t<dd>624536203965423</dd>\n",
              "</dl>\n"
            ],
            "text/markdown": "$file_count\n:   61173\n$data_categories\n:   \nA data.frame: 10 × 3\n\n| <!--/--> | file_count &lt;int&gt; | case_count &lt;int&gt; | data_category &lt;chr&gt; |\n|---|---|---|---|\n| 1 | 17337 | 1098 | Simple Nucleotide Variation  |\n| 2 |  9281 | 1098 | Sequencing Reads             |\n| 3 |  5316 | 1098 | Biospecimen                  |\n| 4 |  2288 | 1098 | Clinical                     |\n| 5 | 12292 | 1098 | Copy Number Variation        |\n| 6 |  4876 | 1097 | Transcriptome Profiling      |\n| 7 |  3714 | 1097 | DNA Methylation              |\n| 8 |   919 |  881 | Proteome Profiling           |\n| 9 |   226 |  101 | Somatic Structural Variation |\n| 10 |  4924 | 1095 | Structural Variation         |\n\n\n$case_count\n:   1098\n$file_size\n:   624536203965423\n\n\n",
            "text/latex": "\\begin{description}\n\\item[\\$file\\_count] 61173\n\\item[\\$data\\_categories] A data.frame: 10 × 3\n\\begin{tabular}{r|lll}\n  & file\\_count & case\\_count & data\\_category\\\\\n  & <int> & <int> & <chr>\\\\\n\\hline\n\t1 & 17337 & 1098 & Simple Nucleotide Variation \\\\\n\t2 &  9281 & 1098 & Sequencing Reads            \\\\\n\t3 &  5316 & 1098 & Biospecimen                 \\\\\n\t4 &  2288 & 1098 & Clinical                    \\\\\n\t5 & 12292 & 1098 & Copy Number Variation       \\\\\n\t6 &  4876 & 1097 & Transcriptome Profiling     \\\\\n\t7 &  3714 & 1097 & DNA Methylation             \\\\\n\t8 &   919 &  881 & Proteome Profiling          \\\\\n\t9 &   226 &  101 & Somatic Structural Variation\\\\\n\t10 &  4924 & 1095 & Structural Variation        \\\\\n\\end{tabular}\n\n\\item[\\$case\\_count] 1098\n\\item[\\$file\\_size] 624536203965423\n\\end{description}\n",
            "text/plain": [
              "$file_count\n",
              "[1] 61173\n",
              "\n",
              "$data_categories\n",
              "   file_count case_count                data_category\n",
              "1       17337       1098  Simple Nucleotide Variation\n",
              "2        9281       1098             Sequencing Reads\n",
              "3        5316       1098                  Biospecimen\n",
              "4        2288       1098                     Clinical\n",
              "5       12292       1098        Copy Number Variation\n",
              "6        4876       1097      Transcriptome Profiling\n",
              "7        3714       1097              DNA Methylation\n",
              "8         919        881           Proteome Profiling\n",
              "9         226        101 Somatic Structural Variation\n",
              "10       4924       1095         Structural Variation\n",
              "\n",
              "$case_count\n",
              "[1] 1098\n",
              "\n",
              "$file_size\n",
              "[1] 6.245362e+14\n"
            ]
          },
          "metadata": {}
        },
        {
          "output_type": "stream",
          "name": "stderr",
          "text": [
            "--------------------------------------\n",
            "\n",
            "o GDCquery: Searching in GDC database\n",
            "\n",
            "--------------------------------------\n",
            "\n",
            "Genome of reference: hg38\n",
            "\n",
            "--------------------------------------------\n",
            "\n",
            "oo Accessing GDC. This might take a while...\n",
            "\n",
            "--------------------------------------------\n",
            "\n",
            "ooo Project: TCGA-BRCA\n",
            "\n",
            "--------------------\n",
            "\n",
            "oo Filtering results\n",
            "\n",
            "--------------------\n",
            "\n",
            "----------------\n",
            "\n",
            "oo Checking data\n",
            "\n",
            "----------------\n",
            "\n",
            "ooo Checking if there are duplicated cases\n",
            "\n",
            "Warning: There are more than one file for the same case. Please verify query results. You can use the command View(getResults(query)) in rstudio\n",
            "\n",
            "ooo Checking if there are results for the query\n",
            "\n",
            "-------------------\n",
            "\n",
            "o Preparing output\n",
            "\n",
            "-------------------\n",
            "\n",
            "--------------------------------------\n",
            "\n",
            "o GDCquery: Searching in GDC database\n",
            "\n",
            "--------------------------------------\n",
            "\n",
            "Genome of reference: hg38\n",
            "\n",
            "--------------------------------------------\n",
            "\n",
            "oo Accessing GDC. This might take a while...\n",
            "\n",
            "--------------------------------------------\n",
            "\n",
            "ooo Project: TCGA-BRCA\n",
            "\n",
            "--------------------\n",
            "\n",
            "oo Filtering results\n",
            "\n",
            "--------------------\n",
            "\n",
            "ooo By access\n",
            "\n",
            "ooo By experimental.strategy\n",
            "\n",
            "ooo By sample.type\n",
            "\n",
            "----------------\n",
            "\n",
            "oo Checking data\n",
            "\n",
            "----------------\n",
            "\n",
            "ooo Checking if there are duplicated cases\n",
            "\n",
            "ooo Checking if there are results for the query\n",
            "\n",
            "-------------------\n",
            "\n",
            "o Preparing output\n",
            "\n",
            "-------------------\n",
            "\n",
            "Downloading data for project TCGA-BRCA\n",
            "\n",
            "GDCdownload will download 113 files. A total of 479.829217 MB\n",
            "\n",
            "Downloading as: Sun_May__5_16_32_01_2024.tar.gz\n",
            "\n"
          ]
        },
        {
          "output_type": "stream",
          "name": "stdout",
          "text": [
            "Downloading: 120 MB     "
          ]
        }
      ]
    },
    {
      "cell_type": "code",
      "source": [
        "#Una vez hayamos descargados los datos, podríamos realizar la preparación de los\n",
        "#datos para su análisis.\n",
        "#lo que nos devolverá un objeto experimento resumido(ya que ponemos el argumento\n",
        "#bandera como 'TRUE').\n",
        "datos_transcriptoma_sanos<-GDCprepare(query_TCGA_normal,summarizedExperiment = TRUE)\n",
        "matriz_transcriptoma_sanos<-assay(datos_transcriptoma_sanos,'stranded_second')"
      ],
      "metadata": {
        "colab": {
          "base_uri": "https://localhost:8080/"
        },
        "id": "uaxw4AAQs-dV",
        "outputId": "2a55925d-077b-4d57-9fe2-704f781115a2"
      },
      "execution_count": null,
      "outputs": [
        {
          "output_type": "stream",
          "name": "stdout",
          "text": [
            "|====================================================|100%                      Completed after 11 s \n"
          ]
        },
        {
          "output_type": "stream",
          "name": "stderr",
          "text": [
            "Starting to add information to samples\n",
            "\n",
            " => Add clinical information to samples\n",
            "\n",
            " => Adding TCGA molecular information from marker papers\n",
            "\n",
            " => Information will have prefix 'paper_' \n",
            "\n",
            "brca subtype information from:doi.org/10.1016/j.ccell.2018.03.014\n",
            "\n",
            "Available assays in SummarizedExperiment : \n",
            "  => unstranded\n",
            "  => stranded_first\n",
            "  => stranded_second\n",
            "  => tpm_unstrand\n",
            "  => fpkm_unstrand\n",
            "  => fpkm_uq_unstrand\n",
            "\n"
          ]
        }
      ]
    },
    {
      "cell_type": "markdown",
      "source": [
        "## Segunda solicitud (Valor Beta de Metilación):"
      ],
      "metadata": {
        "id": "uEo2mRl3rkVU"
      }
    },
    {
      "cell_type": "code",
      "source": [
        "#/*\n",
        "#Segunda solicitud (Valor Beta de Metilación):\n",
        "TCGA_methylation_sanos<-GDCquery(project = 'TCGA-BRCA',\n",
        "                                 data.category = 'DNA Methylation',\n",
        "                                 data.type = 'Methylation Beta Value',\n",
        "                                 platform = 'Illumina Human Methylation 27',\n",
        "                                 sample.type = 'Solid Tissue Normal',\n",
        "                                 access = 'open')\n",
        "#Ahora solicitamos la visualización de los resultados obtenidos con la\n",
        "#solicitud:\n",
        "\n",
        "output_TCGA_methylation_sanos<-getResults(TCGA_methylation_sanos)\n",
        "\n",
        "#Con ello, ya descargaríamos los datos:\n",
        "\n",
        "GDCdownload(TCGA_methylation_sanos)\n",
        "\n",
        "#Una vez hayamos descargados los datos, podríamos realizar la preparación de los\n",
        "#datos para su análisis.\n",
        "#lo que nos devolverá un objeto experimento resumido(ya que ponemos el argumento\n",
        "#bandera como 'TRUE').\n",
        "\n",
        "#grafico que prueba las diferencias entre los distintos valores beta de\n",
        "#los datos\n",
        "BiocManager::install(\"sesameData\")\n",
        "install.packages(\"sesameData\")\n",
        "\n",
        "datos_metilacion_sanos<-GDCprepare(TCGA_methylation_sanos,summarizedExperiment = TRUE)\n",
        "assay(datos_metilacion_sanos)\n",
        "\n",
        "idx<- datos_metilacion_sanos %>%\n",
        "  assay %>%\n",
        "  rowVars() %>%\n",
        "  order(decreasing = TRUE) %>%\n",
        "  head(10)\n",
        "\n",
        "\n",
        "pheatmap(assay(datos_metilacion_sanos)[idx,])"
      ],
      "metadata": {
        "colab": {
          "base_uri": "https://localhost:8080/",
          "height": 1000
        },
        "id": "G2dFN8durR1z",
        "outputId": "a24dcac0-9f38-4a72-f13b-b04efd5fb9f7"
      },
      "execution_count": null,
      "outputs": [
        {
          "output_type": "stream",
          "name": "stderr",
          "text": [
            "--------------------------------------\n",
            "\n",
            "o GDCquery: Searching in GDC database\n",
            "\n",
            "--------------------------------------\n",
            "\n",
            "Genome of reference: hg38\n",
            "\n",
            "--------------------------------------------\n",
            "\n",
            "oo Accessing GDC. This might take a while...\n",
            "\n",
            "--------------------------------------------\n",
            "\n",
            "ooo Project: TCGA-BRCA\n",
            "\n",
            "--------------------\n",
            "\n",
            "oo Filtering results\n",
            "\n",
            "--------------------\n",
            "\n",
            "ooo By platform\n",
            "\n",
            "ooo By access\n",
            "\n",
            "ooo By data.type\n",
            "\n",
            "ooo By sample.type\n",
            "\n",
            "----------------\n",
            "\n",
            "oo Checking data\n",
            "\n",
            "----------------\n",
            "\n",
            "ooo Checking if there are duplicated cases\n",
            "\n",
            "ooo Checking if there are results for the query\n",
            "\n",
            "-------------------\n",
            "\n",
            "o Preparing output\n",
            "\n",
            "-------------------\n",
            "\n",
            "Downloading data for project TCGA-BRCA\n",
            "\n",
            "GDCdownload will download 27 files. A total of 20.762313 MB\n",
            "\n",
            "Downloading as: Sun_May__5_16_34_11_2024.tar.gz\n",
            "\n"
          ]
        },
        {
          "output_type": "stream",
          "name": "stdout",
          "text": [
            "Downloading: 8.6 MB     "
          ]
        },
        {
          "output_type": "stream",
          "name": "stderr",
          "text": [
            "'getOption(\"repos\")' replaces Bioconductor standard repositories, see\n",
            "'help(\"repositories\", package = \"BiocManager\")' for details.\n",
            "Replacement repositories:\n",
            "    CRAN: https://cran.rstudio.com\n",
            "\n",
            "Bioconductor version 3.19 (BiocManager 1.30.23), R 4.4.0 (2024-04-24)\n",
            "\n",
            "Installing package(s) 'sesameData'\n",
            "\n",
            "also installing the dependencies ‘ExperimentHub’, ‘AnnotationHub’\n",
            "\n",
            "\n",
            "Old packages: 'bit', 'brio', 'bslib', 'callr', 'curl', 'data.table', 'DBI',\n",
            "  'dbplyr', 'devtools', 'digest', 'fs', 'gargle', 'ggplot2', 'gh', 'gtable',\n",
            "  'highr', 'htmltools', 'httr2', 'isoband', 'knitr', 'munsell', 'openssl',\n",
            "  'pkgbuild', 'processx', 'ragg', 'remotes', 'rmarkdown', 'rstudioapi',\n",
            "  'rvest', 'sass', 'systemfonts', 'testthat', 'textshaping', 'tidyselect',\n",
            "  'tinytex', 'usethis', 'whisker', 'xfun', 'xopen', 'zip', 'codetools',\n",
            "  'lattice', 'MASS', 'Matrix', 'nlme', 'survival'\n",
            "\n",
            "Installing package into ‘/usr/local/lib/R/site-library’\n",
            "(as ‘lib’ is unspecified)\n",
            "\n",
            "Warning message:\n",
            "“package ‘sesameData’ is not available for this version of R\n",
            "\n",
            "A version of this package for your version of R might be available elsewhere,\n",
            "see the ideas at\n",
            "https://cran.r-project.org/doc/manuals/r-patched/R-admin.html#Installing-packages”\n",
            "-------------------\n",
            "\n",
            "oo Reading 27 files\n",
            "\n",
            "-------------------\n",
            "\n"
          ]
        },
        {
          "output_type": "stream",
          "name": "stdout",
          "text": [
            "|====================================================|100%                      Completed after 1 s \n"
          ]
        },
        {
          "output_type": "stream",
          "name": "stderr",
          "text": [
            "-------------------\n",
            "\n",
            "oo Merging 27 files\n",
            "\n",
            "-------------------\n",
            "\n",
            "=-=-=-=-=-=-=-=-=-=-=-=-=-=-=-=-=-=-=-=-=-=-=-=-=-=-=-=-=-=-=-=-=-=-=-=-=-=-=-\n",
            "\n",
            "Creating a SummarizedExperiment from DNA methylation input\n",
            "\n"
          ]
        },
        {
          "output_type": "error",
          "ename": "ERROR",
          "evalue": "Error: sesame package is needed for this function to work. Please install it.\n",
          "traceback": [
            "Error: sesame package is needed for this function to work. Please install it.\nTraceback:\n",
            "1. GDCprepare(TCGA_methylation_sanos, summarizedExperiment = TRUE)",
            "2. readDNAmethylation(files = files, cases = cases, summarizedExperiment = summarizedExperiment, \n .     platform = unique(query$results[[1]]$platform))",
            "3. makeSEFromDNAMethylationMatrix(betas = df, genome = \"hg38\", met.platform = platform)",
            "4. getMetPlatInfo(platform = met.platform, genome = genome)",
            "5. check_package(\"sesame\")",
            "6. stop(package, \" package is needed for this function to work. Please install it.\", \n .     call. = FALSE)"
          ]
        }
      ]
    },
    {
      "cell_type": "markdown",
      "source": [
        "## Tercera solicitud (Variación simple de nucleótidos):"
      ],
      "metadata": {
        "id": "CKEVrCNWsRd7"
      }
    },
    {
      "cell_type": "code",
      "source": [
        "#/*\n",
        "#Tercera solicitud (Variación simple de nucleótidos):\n",
        "TCGA_variation_sanos<-GDCquery(project = 'TCGA-BRCA',\n",
        "                               data.category = 'Simple Nucleotide Variation',\n",
        "                               data.type = 'Masked Somatic Mutation',\n",
        "                               sample.type = 'Solid Tissue Normal',\n",
        "                               access = 'open')\n",
        "#Ahora solicitamos la visualización de los resultados obtenidos con la\n",
        "#solicitud:\n",
        "\n",
        "output_TCGA_variation_sanos<-getResults(query_TCGA_variation)\n",
        "\n",
        "#Con ello, ya descargaríamos los datos:\n",
        "\n",
        "GDCdownload(TCGA_variation_sanos)\n",
        "\n",
        "#Una vez hayamos descargados los datos, podríamos realizar la preparación de los\n",
        "#datos para su análisis.\n",
        "#lo que nos devolverá un objeto experimento resumido(ya que ponemos el argumento\n",
        "#bandera como 'TRUE').\n",
        "datos_variacion_sanos<- GDCprepare(query_TCGA_variation,summarizedExperiment = TRUE)\n",
        "\n",
        "#visualización de gráficos relativos a la variación de nucleótidos\n",
        " maftools.input<- read.maf(datos_variacion_sanos)\n",
        "\n",
        " plotmafSummary(maf= maftools.input,\n",
        "                addStat = 'median',\n",
        "                rmOutlier = TRUE,\n",
        "                dashboard = TRUE)\n",
        "\n",
        " #oncoprint\n",
        "\n",
        " oncoplot(maf = maftools.input,\n",
        "          top = 10,\n",
        "          removeNonMutated = TRUE)\n",
        "\n",
        "\n"
      ],
      "metadata": {
        "colab": {
          "base_uri": "https://localhost:8080/",
          "height": 697
        },
        "id": "icWEykg1sVJY",
        "outputId": "8aa2c46f-b96b-484c-df0a-ea11ba9d81ec"
      },
      "execution_count": null,
      "outputs": [
        {
          "output_type": "stream",
          "name": "stderr",
          "text": [
            "--------------------------------------\n",
            "\n",
            "o GDCquery: Searching in GDC database\n",
            "\n",
            "--------------------------------------\n",
            "\n",
            "Genome of reference: hg38\n",
            "\n",
            "--------------------------------------------\n",
            "\n",
            "oo Accessing GDC. This might take a while...\n",
            "\n",
            "--------------------------------------------\n",
            "\n",
            "ooo Project: TCGA-BRCA\n",
            "\n",
            "--------------------\n",
            "\n",
            "oo Filtering results\n",
            "\n",
            "--------------------\n",
            "\n",
            "ooo By access\n",
            "\n",
            "ooo By data.type\n",
            "\n"
          ]
        },
        {
          "output_type": "stream",
          "name": "stdout",
          "text": [
            "\n",
            "\n",
            "|sample.type | Number of samples|\n",
            "|:-----------|-----------------:|\n",
            "|            |                83|\n"
          ]
        },
        {
          "output_type": "error",
          "ename": "ERROR",
          "evalue": "Error in GDCquery(project = \"TCGA-BRCA\", data.category = \"Simple Nucleotide Variation\", : Please set a valid sample.type argument from the list above.\n",
          "traceback": [
            "Error in GDCquery(project = \"TCGA-BRCA\", data.category = \"Simple Nucleotide Variation\", : Please set a valid sample.type argument from the list above.\nTraceback:\n",
            "1. GDCquery(project = \"TCGA-BRCA\", data.category = \"Simple Nucleotide Variation\", \n .     data.type = \"Masked Somatic Mutation\", sample.type = \"Solid Tissue Normal\", \n .     access = \"open\")",
            "2. stop(\"Please set a valid sample.type argument from the list above.\")"
          ]
        }
      ]
    },
    {
      "cell_type": "markdown",
      "source": [
        "# Para los casos patológicos"
      ],
      "metadata": {
        "id": "Qi3cPVOcsdv9"
      }
    },
    {
      "cell_type": "markdown",
      "source": [
        "## Primera solicitud (perfil del transcriptoma):"
      ],
      "metadata": {
        "id": "KdykT8-EswBE"
      }
    },
    {
      "cell_type": "code",
      "source": [
        "#Primera solicitud (perfil del transcriptoma):\n",
        " query_TCGA_enfermos<-GDCquery(project = 'TCGA-BRCA',\n",
        "                             data.category = 'Transcriptome Profiling',\n",
        "                             experimental.strategy = 'RNA-Seq',\n",
        "                             sample.type = 'Primary Tumor',\n",
        "                             access = 'open')\n",
        "\n",
        "\n",
        "\n",
        " output_TCGA_enfermos<-getResults(query_TCGA_enfermos)\n",
        "\n",
        "\n",
        " GDCdownload(query_TCGA_enfermos)"
      ],
      "metadata": {
        "id": "PQMSBE2fsjY8"
      },
      "execution_count": null,
      "outputs": []
    },
    {
      "cell_type": "code",
      "source": [
        "\n",
        " #Una vez hayamos descargados los datos, podríamos realizar la preparación de los\n",
        " #datos para su análisis.\n",
        " #lo que nos devolverá un objeto experimento resumido(ya que ponemos el argumento\n",
        " #bandera como 'TRUE').\n",
        " datos_transcriptoma_enfermos<- GDCprepare(query_TCGA_enfermos,summarizedExperiment = TRUE)\n",
        " matriz_transcriptoma_enfermos<-assay(datos_transcriptoma_enfermos,'unstranded')"
      ],
      "metadata": {
        "id": "QQwEOAWJtMrL"
      },
      "execution_count": null,
      "outputs": []
    },
    {
      "cell_type": "markdown",
      "source": [
        "## Segunda solicitud (Valor Beta de Metilación):"
      ],
      "metadata": {
        "id": "-pv2eTCCs1tl"
      }
    },
    {
      "cell_type": "code",
      "source": [
        "#Segunda solicitud (Valor Beta de Metilación):\n",
        " TCGA_methylation_enfermos<-GDCquery(project = 'TCGA-BRCA',\n",
        "                                  data.category = 'DNA Methylation',\n",
        "                                  data.type = 'Methylation Beta Value',\n",
        "                                  plataform = 'Illumina Human Methylation 27',\n",
        "                                  sample.type = 'Primary Tumor',\n",
        "                                  access = 'open')\n",
        " #Ahora solicitamos la visualización de los resultados obtenidos con la\n",
        " #solicitud:\n",
        "\n",
        " output_TCGA_methylation_enfermos<-getResults(TCGA_methylation_enfermos)\n",
        "\n",
        " #Con ello, ya descargaríamos los datos:\n",
        "\n",
        " GDCdownload(TCGA_methylation_enfermos)\n",
        "\n",
        " #Una vez hayamos descargados los datos, podríamos realizar la preparación de los\n",
        " #datos para su análisis.\n",
        " #lo que nos devolverá un objeto experimento resumido(ya que ponemos el argumento\n",
        " #bandera como 'TRUE').\n",
        "\n",
        " #grafico que prueba las diferencias entre los distintos valores beta de\n",
        " #los datos\n",
        " datos_metilacion_enfermos<- GDCprepare(TCGA_methylation_enfermos,summarizedExperiment = TRUE)\n",
        " assay(datos_metilacion_enfermos)\n",
        "\n",
        " idx<- datos_metilacion_enfermos %>%\n",
        "   assay %>%\n",
        "   rowVars() %>%\n",
        "   order(decreasing = TRUE) %>%\n",
        "   head(10)\n",
        "\n",
        "\n",
        " pheatmap(assay(datos_metilacion_enfermos)[idx,])"
      ],
      "metadata": {
        "id": "yvPnRIgAs137"
      },
      "execution_count": null,
      "outputs": []
    },
    {
      "cell_type": "markdown",
      "source": [
        "## Tercera solicitud (Variación simple de nucleótidos):"
      ],
      "metadata": {
        "id": "wXTezr3DtT79"
      }
    },
    {
      "cell_type": "code",
      "source": [
        "#Tercera solicitud (Variación simple de nucleótidos):\n",
        " TCGA_variation_enfermos<-GDCquery(project = 'TCGA-BRCA',\n",
        "                                data.category = 'Simple Nucleotide Variation',\n",
        "                                data.type = 'Masked Somatic Mutation',\n",
        "                                sample.type = 'Primary Tumor',\n",
        "                                access = 'open')\n",
        " #Ahora solicitamos la visualización de los resultados obtenidos con la\n",
        " #solicitud:\n",
        "\n",
        " output_TCGA_variation_enfermos<-getResults(TCGA_variation_enfermos)\n",
        "\n",
        " #Con ello, ya descargaríamos los datos:\n",
        "\n",
        " GDCdownload(TCGA_variation_enfermos)\n",
        "\n",
        " #Una vez hayamos descargados los datos, podríamos realizar la preparación de los\n",
        " #datos para su análisis.\n",
        " #lo que nos devolverá un objeto experimento resumido(ya que ponemos el argumento\n",
        " #bandera como 'TRUE').\n",
        " datos_variacion_enfermos<- GDCprepare(TCGA_variation_enfermos,summarizedExperiment = TRUE)\n",
        "\n",
        " #visualización de gráficos relativos a la variación de nucleótidos\n",
        " maftools.input<- read.maf(datos_variacion_enfermos)\n",
        "\n",
        " plotmafSummary(maf= maftools.input,\n",
        "                addStat = 'median',\n",
        "                rmOutlier = TRUE,\n",
        "                dashboard = TRUE)\n",
        "\n",
        " #oncoprint\n",
        "\n",
        " oncoplot(maf = maftools.input,\n",
        "          top = 10,\n",
        "          removeNonMutated = TRUE)\n"
      ],
      "metadata": {
        "id": "oZeEnUhstUA_"
      },
      "execution_count": null,
      "outputs": []
    },
    {
      "cell_type": "code",
      "source": [],
      "metadata": {
        "id": "F7XiqS3dtZkm"
      },
      "execution_count": null,
      "outputs": []
    }
  ]
}